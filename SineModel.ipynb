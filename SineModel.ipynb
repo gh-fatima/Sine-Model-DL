{
  "nbformat": 4,
  "nbformat_minor": 0,
  "metadata": {
    "colab": {
      "name": "SineModel.ipynb",
      "provenance": [],
      "collapsed_sections": [],
      "authorship_tag": "ABX9TyNMadLo+wML+55RR6eie3pD",
      "include_colab_link": true
    },
    "kernelspec": {
      "name": "python3",
      "display_name": "Python 3"
    }
  },
  "cells": [
    {
      "cell_type": "markdown",
      "metadata": {
        "id": "view-in-github",
        "colab_type": "text"
      },
      "source": [
        "<a href=\"https://colab.research.google.com/github/gh-fatima/Sine-Model-DL/blob/main/SineModel.ipynb\" target=\"_parent\"><img src=\"https://colab.research.google.com/assets/colab-badge.svg\" alt=\"Open In Colab\"/></a>"
      ]
    },
    {
      "cell_type": "code",
      "metadata": {
        "id": "oC3cXsQaiYbi"
      },
      "source": [
        "!pip install tensorflow==2.0.0-beta0"
      ],
      "execution_count": null,
      "outputs": []
    },
    {
      "cell_type": "code",
      "metadata": {
        "id": "XJTsy8h2H0xq"
      },
      "source": [
        "import tensorflow as tf\r\n",
        "import numpy as np\r\n",
        "import matplotlib.pyplot as plt\r\n",
        "import math"
      ],
      "execution_count": null,
      "outputs": []
    },
    {
      "cell_type": "code",
      "metadata": {
        "id": "rJdQPH6MIcSD"
      },
      "source": [
        "# Generating 1000 samples using y = sin(x) for x = 0:2pi\r\n",
        "SAMPLES=1000\r\n",
        "SEED= 1337\r\n",
        "np.random.seed(SEED)\r\n",
        "tf.random.set_seed(SEED)\r\n",
        "x_values = np.random.uniform(low=0.0,high=2*np.pi,size=SAMPLES)\r\n",
        "np.random.shuffle(x_values)\r\n",
        "y_values = np.sin(x_values)\r\n",
        "plt.plot(x_values,y_values,'r.')\r\n",
        "plt.xlabel('x')\r\n",
        "plt.ylabel('y = sin(x)')\r\n",
        "plt.title('Actual Data')\r\n",
        "plt.show()"
      ],
      "execution_count": null,
      "outputs": []
    },
    {
      "cell_type": "code",
      "metadata": {
        "id": "8OSsmL6iNyAm"
      },
      "source": [
        "# Adding a small random noise to the data \r\n",
        "y_values += 0.1*np.random.randn(*y_values.shape)\r\n",
        "plt.plot(x_values,y_values,'b.')\r\n",
        "plt.show()"
      ],
      "execution_count": null,
      "outputs": []
    },
    {
      "cell_type": "code",
      "metadata": {
        "id": "eiA2ih6ZT9Kd"
      },
      "source": [
        "# Spliting data int three categories: train, validation and test\r\n",
        "x_train,x_validation,x_test = np.split(x_values,[int(0.6*SAMPLES),int(0.8*SAMPLES)])\r\n",
        "y_train,y_validation,y_test = np.split(y_values,[int(0.6*SAMPLES),int(0.8*SAMPLES)])"
      ],
      "execution_count": 8,
      "outputs": []
    },
    {
      "cell_type": "code",
      "metadata": {
        "id": "6U03d2bsW8gI"
      },
      "source": [
        "# checking!\r\n",
        "assert(x_train.size+x_test.size+x_validation.size == SAMPLES)"
      ],
      "execution_count": 9,
      "outputs": []
    },
    {
      "cell_type": "code",
      "metadata": {
        "id": "ZLleMAbeZoY6"
      },
      "source": [
        "# Ploting three categories\r\n",
        "plt.plot(x_train,y_train,'b.',label = \"Train-data\")\r\n",
        "plt.plot(x_test,y_test,'c.',label = \"Test-data\")\r\n",
        "plt.plot(x_validation,y_validation,'m.',label = \"validation-data\")\r\n",
        "plt.legend()\r\n",
        "plt.show()\r\n"
      ],
      "execution_count": null,
      "outputs": []
    },
    {
      "cell_type": "code",
      "metadata": {
        "id": "tBlrSIy4asBd"
      },
      "source": [
        "# Using Keras to create a simple model architecture\r\n",
        "from tensorflow.keras import layers\r\n",
        "model_1 = tf.keras.Sequential()\r\n",
        "model_1.add(layers.Dense(16,activation='relu',input_shape=(1,)))\r\n",
        "model_1.add(layers.Dense(1))\r\n",
        "model_1.compile(optimizer='rmsprop',loss='mse',metrics=['mae'])\r\n",
        "model_1.summary()"
      ],
      "execution_count": null,
      "outputs": []
    },
    {
      "cell_type": "code",
      "metadata": {
        "id": "GVcxLfqZhrGY"
      },
      "source": [
        "# Training the model\r\n",
        "history_1 = model_1.fit(x_train,y_train,epochs=1000,batch_size=16,validation_data=(x_validation,y_validation))"
      ],
      "execution_count": null,
      "outputs": []
    },
    {
      "cell_type": "code",
      "metadata": {
        "id": "dTdU62eiPvCB"
      },
      "source": [
        "# Summerize history for Loss\r\n",
        "loss_train = history_1.history['loss']\r\n",
        "loss_validation = history_1.history['val_loss']\r\n",
        "epochs = range(1,len(loss_train)+1)\r\n",
        "plt.plot(epochs,loss_train,'r.',label='Training Loss')\r\n",
        "plt.plot(epochs,loss_validation,'k',label='loss_validation')\r\n",
        "plt.title('Model Loss')\r\n",
        "plt.legend()\r\n",
        "plt.xlabel('epochs')\r\n",
        "plt.ylabel('Loss')\r\n",
        "plt.show()"
      ],
      "execution_count": null,
      "outputs": []
    },
    {
      "cell_type": "code",
      "metadata": {
        "id": "mWfUt0G-iOFM"
      },
      "source": [
        "# Displaying model loss with eliminating the first 100 samples\r\n",
        "plt.plot(epochs[100:],loss_train[100:],'r.',label='Training Loss')\r\n",
        "plt.plot(epochs[100:],loss_validation[100:],'k.',label='Validation Loss')\r\n",
        "plt.title('Model Loss')\r\n",
        "plt.legend()\r\n",
        "plt.xlabel('epochs')\r\n",
        "plt.ylabel('Loss')\r\n",
        "plt.show()"
      ],
      "execution_count": null,
      "outputs": []
    },
    {
      "cell_type": "code",
      "metadata": {
        "id": "1AEVuNq0js0Y"
      },
      "source": [
        "# Summerize history for MSE\r\n",
        "MSE_train = history_1.history['mae']\r\n",
        "MSE_validation = history_1.history['val_mae']\r\n",
        "plt.plot(epochs[100:],MSE_train[100:],'g.',label='Training MSE')\r\n",
        "plt.plot(epochs[100:],MSE_validation[100:],'y.',label='Validation MSE')\r\n",
        "plt.title('Model MSE')\r\n",
        "plt.legend()\r\n",
        "plt.xlabel('epochs')\r\n",
        "plt.ylabel('MSE')\r\n",
        "plt.show()"
      ],
      "execution_count": null,
      "outputs": []
    },
    {
      "cell_type": "code",
      "metadata": {
        "id": "SeG3yIMwkGMW"
      },
      "source": [
        "# Predicting labels for traing data\r\n",
        "predictions = model_1.predict(x_train)\r\n",
        "plt.plot(x_train,y_train,'r.',label='Actual')\r\n",
        "plt.plot(x_train,predictions,'b.',label='Predicted')\r\n",
        "plt.xlabel('x')\r\n",
        "plt.ylabel('sin(x)')\r\n",
        "plt.legend()\r\n",
        "plt.show()"
      ],
      "execution_count": null,
      "outputs": []
    },
    {
      "cell_type": "code",
      "metadata": {
        "id": "e02xDn8loHYk"
      },
      "source": [
        "# Improving the model by adding an extra layer\r\n",
        "from tensorflow.keras import layers\r\n",
        "model_2 = tf.keras.Sequential()\r\n",
        "model_2.add(layers.Dense(16,activation='relu',input_shape=(1,)))\r\n",
        "model_2.add(layers.Dense(16,activation='relu',input_shape=(1,)))\r\n",
        "model_2.add(layers.Dense(1))\r\n",
        "model_2.compile(optimizer='rmsprop',loss='mse',metrics=['mae'])\r\n",
        "model_2.summary()"
      ],
      "execution_count": null,
      "outputs": []
    },
    {
      "cell_type": "code",
      "metadata": {
        "id": "mOoEnJCtoQWW"
      },
      "source": [
        "# Training the model\r\n",
        "history_2 = model_2.fit(x_train,y_train,epochs=600,batch_size=16,validation_data=[x_validation,y_validation])"
      ],
      "execution_count": null,
      "outputs": []
    },
    {
      "cell_type": "code",
      "metadata": {
        "id": "isT4-hrgo71M"
      },
      "source": [
        "# Summerize history for Loss\r\n",
        "loss2_train = history_2.history['loss']\r\n",
        "loss2_validation = history_2.history['val_loss']\r\n",
        "epochs2 = range(1,len(loss2_train)+1)\r\n",
        "plt.plot(epochs2,loss2_train,'g.',label='Train Loss')\r\n",
        "plt.plot(epochs2,loss2_validation,'y.',label='Validation Loss')\r\n",
        "plt.legend()\r\n",
        "plt.show()\r\n"
      ],
      "execution_count": null,
      "outputs": []
    },
    {
      "cell_type": "code",
      "metadata": {
        "id": "azy23bdpuVxQ"
      },
      "source": [
        "# Displaying model loss with eliminating the first 100 samples\r\n",
        "plt.plot(epochs2[100:],loss2_train[100:],'g.',label='Train Loss')\r\n",
        "plt.plot(epochs2[100:],loss2_validation[100:],'y.',label='Validation Loss')\r\n",
        "plt.legend()\r\n",
        "plt.show()"
      ],
      "execution_count": null,
      "outputs": []
    },
    {
      "cell_type": "code",
      "metadata": {
        "id": "JnsxH-ZVzdg_"
      },
      "source": [
        "# Displayig Model MSE with eliminating the first 100 samples\r\n",
        "mae2 = history_2.history['mae']\r\n",
        "mae2_validation = history_2.history['val_mae']\r\n",
        "epochs2 = range(1,len(mae2)+1)\r\n",
        "plt.plot(epochs2[100:],mae2[100:],'g.',label='MAE')\r\n",
        "plt.plot(epochs2[100:],mae2_validation[100:],'y.',label='MAE_validation')\r\n",
        "plt.legend()\r\n",
        "plt.show()\r\n"
      ],
      "execution_count": null,
      "outputs": []
    },
    {
      "cell_type": "code",
      "metadata": {
        "id": "doo-EWxs2sGi"
      },
      "source": [
        "loss3 = model_2.evaluate(x_test,y_test)"
      ],
      "execution_count": null,
      "outputs": []
    },
    {
      "cell_type": "code",
      "metadata": {
        "id": "nstrSUWX5G7F"
      },
      "source": [
        "# Predicting labels for the test data\r\n",
        "prediction3 = model_2.predict(x_test)\r\n",
        "plt.plot(x_test,y_test,'g.',label='Actual')\r\n",
        "plt.plot(x_test,prediction3,'b.',label='Predicted')\r\n",
        "plt.legend()\r\n",
        "plt.show()"
      ],
      "execution_count": null,
      "outputs": []
    },
    {
      "cell_type": "code",
      "metadata": {
        "id": "lEpEOfKa5skI"
      },
      "source": [
        "# Converting TensorFlow models into TensorFlow Lite FlatBuffer format\r\n",
        "converter = tf.lite.TFLiteConverter.from_keras_model(model_2)\r\n",
        "tflite_model = converter.convert()"
      ],
      "execution_count": null,
      "outputs": []
    },
    {
      "cell_type": "code",
      "metadata": {
        "id": "7Qeq8-MPI9fP"
      },
      "source": [
        "# Saving the model to disk\r\n",
        "open('sine_model.tflite','wb').write(tflite_model)"
      ],
      "execution_count": null,
      "outputs": []
    },
    {
      "cell_type": "code",
      "metadata": {
        "id": "pmGcAplwJ7VT"
      },
      "source": [
        "# Converting the model to the TensorFlow Lite format with quantization\r\n",
        "converter = tf.lite.TFLiteConverter.from_keras_model(model_2)\r\n",
        "converter.optimizations = [tf.lite.Optimize.DEFAULT]"
      ],
      "execution_count": null,
      "outputs": []
    },
    {
      "cell_type": "code",
      "metadata": {
        "id": "JsNi7y4sLQuT"
      },
      "source": [
        "def representative_dataset_generator():\r\n",
        "  for value in x_test:\r\n",
        "    yield[np.array(value, dtype=np.float32, ndim=2)]\r\n",
        "  converter.representative_dataset = representative_dataset_generator\r\n",
        "  tflite_model = converter.convert()"
      ],
      "execution_count": 28,
      "outputs": []
    },
    {
      "cell_type": "code",
      "metadata": {
        "id": "mGPNmruJRr8S"
      },
      "source": [
        "# Saving the model to disk\r\n",
        "open('sine_model_quantized.tflite','wb').write(tflite_model)"
      ],
      "execution_count": null,
      "outputs": []
    },
    {
      "cell_type": "code",
      "metadata": {
        "id": "oO0_KZgeRxeO"
      },
      "source": [
        "# Instantiating an interpreter for each model\r\n",
        "sine_model = tf.lite.Interpreter('sine_model.tflite')\r\n",
        "sine_model_quantized = tf.lite.Interpreter('sine_model_quantized.tflite')"
      ],
      "execution_count": 30,
      "outputs": []
    },
    {
      "cell_type": "code",
      "metadata": {
        "id": "orrPHzhD0vFN"
      },
      "source": [
        "# Allocating memory for each model\r\n",
        "sine_model.allocate_tensors()\r\n",
        "sine_model_quantized.allocate_tensors()"
      ],
      "execution_count": 31,
      "outputs": []
    },
    {
      "cell_type": "code",
      "metadata": {
        "id": "67mporaU1azz"
      },
      "source": [
        "# # Getting indexes of the input and output tensors\r\n",
        "sine_model_input_index = sine_model.get_input_details()[0][\"index\"]\r\n",
        "sine_model_output_index =sine_model.get_output_details()[0][\"index\"]"
      ],
      "execution_count": 32,
      "outputs": []
    },
    {
      "cell_type": "code",
      "metadata": {
        "id": "xMBCuaHB3Glz"
      },
      "source": [
        "sine_model_quantized_input_index = sine_model_quantized.get_input_details()[0][\"index\"]\r\n",
        "sine_model_quantized_output_index = sine_model_quantized.get_output_details()[0][\"index\"]"
      ],
      "execution_count": 33,
      "outputs": []
    },
    {
      "cell_type": "code",
      "metadata": {
        "id": "0XBFkou63nwV"
      },
      "source": [
        "# Creating arrays to store the results\r\n",
        "sine_model_predictions = []\r\n",
        "sine_model_quantized_predictions = []"
      ],
      "execution_count": 34,
      "outputs": []
    },
    {
      "cell_type": "code",
      "metadata": {
        "id": "pN_XvqQ94MR6"
      },
      "source": [
        "# Running each model's interpreter for each value and store the results in arrays\r\n",
        "for x_value in x_test:\r\n",
        "  x_value_tensor = tf.convert_to_tensor([[x_value]],dtype=np.float32)\r\n",
        "  sine_model.set_tensor(sine_model_input_index, x_value_tensor)\r\n",
        "  sine_model.invoke()\r\n",
        "  sine_model_predictions.append(sine_model.get_tensor(sine_model_output_index)[0])\r\n",
        "  sine_model_quantized.set_tensor(sine_model_quantized_input_index, x_value_tensor)\r\n",
        "  sine_model_quantized.invoke()\r\n",
        "  sine_model_quantized_predictions.append(sine_model_quantized.get_tensor(sine_model_quantized_output_index)[0])"
      ],
      "execution_count": 35,
      "outputs": []
    },
    {
      "cell_type": "code",
      "metadata": {
        "id": "iQG-Rrp066iY"
      },
      "source": [
        "plt.plot(x_test, y_test, 'mo', label='Actual')\r\n",
        "plt.plot(x_test, prediction3, 'ko', label='Original predictions')\r\n",
        "plt.plot(x_test, sine_model_predictions, 'bx', label='Lite predictions')\r\n",
        "plt.plot(x_test, sine_model_quantized_predictions, 'cx', label='Lite quantized predictions')\r\n",
        "plt.title('Comparison of various models against actual values')\r\n",
        "plt.legend()\r\n",
        "plt.show()"
      ],
      "execution_count": null,
      "outputs": []
    },
    {
      "cell_type": "code",
      "metadata": {
        "id": "dgFcmix8674B"
      },
      "source": [
        "import os\r\n",
        "basic_model_size = os.path.getsize(\"sine_model.tflite\")\r\n",
        "print(\"Basic model is %d bytes\" % basic_model_size)\r\n",
        "quantized_model_size = os.path.getsize(\"sine_model_quantized.tflite\")\r\n",
        "print(\"Quantized model is %d bytes\" % quantized_model_size)\r\n",
        "difference = basic_model_size - quantized_model_size\r\n",
        "print(\"Difference is %d bytes\" % difference)"
      ],
      "execution_count": null,
      "outputs": []
    },
    {
      "cell_type": "code",
      "metadata": {
        "id": "UTZfaexT7bII"
      },
      "source": [
        "# Converting to a C File\r\n",
        "!apt-get -qq install xxd"
      ],
      "execution_count": null,
      "outputs": []
    },
    {
      "cell_type": "code",
      "metadata": {
        "id": "Xm29cjm9_O9H"
      },
      "source": [
        "!xxd -i sine_model_quantized.tflite > sine_model_quantized.cc"
      ],
      "execution_count": 43,
      "outputs": []
    },
    {
      "cell_type": "code",
      "metadata": {
        "id": "OihRAz7-_czU"
      },
      "source": [
        "!cat sine_model_quantized.cc"
      ],
      "execution_count": null,
      "outputs": []
    },
    {
      "cell_type": "code",
      "metadata": {
        "id": "NWz_C9yb_ihU"
      },
      "source": [
        ""
      ],
      "execution_count": null,
      "outputs": []
    }
  ]
}